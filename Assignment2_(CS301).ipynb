{
  "nbformat": 4,
  "nbformat_minor": 0,
  "metadata": {
    "colab": {
      "provenance": [],
      "collapsed_sections": [],
      "authorship_tag": "ABX9TyNJchIZmGrpBLhOoSXra0c2",
      "include_colab_link": true
    },
    "kernelspec": {
      "name": "python3",
      "display_name": "Python 3"
    },
    "language_info": {
      "name": "python"
    }
  },
  "cells": [
    {
      "cell_type": "markdown",
      "metadata": {
        "id": "view-in-github",
        "colab_type": "text"
      },
      "source": [
        "<a href=\"https://colab.research.google.com/github/Munavvarh/CS-301-Intro-to-Data-Science-/blob/main/Assignment2_(CS301).ipynb\" target=\"_parent\"><img src=\"https://colab.research.google.com/assets/colab-badge.svg\" alt=\"Open In Colab\"/></a>"
      ]
    },
    {
      "cell_type": "code",
      "execution_count": null,
      "metadata": {
        "id": "OspA8TQMxofu"
      },
      "outputs": [],
      "source": [
        "import pandas as pd\n",
        "import numpy as np\n",
        "import matplotlib.pyplot as plt\n",
        "import datetime\n",
        "import scipy.stats as sstats\n",
        "import csv\n",
        "from datetime import datetime, date, time\n",
        "from sklearn.linear_model import SGDClassifier\n",
        "from sklearn.metrics import log_loss\n",
        "from sklearn.feature_extraction import FeatureHasher\n",
        "from sklearn import preprocessing\n",
        "from sklearn.pipeline import Pipeline\n",
        "from sklearn.ensemble import RandomForestClassifier\n",
        "from sklearn.model_selection import train_test_split\n",
        "from sklearn.pipeline import make_pipeline\n",
        "from sklearn.model_selection import GridSearchCV\n",
        "import joblib\n",
        "from sklearn.preprocessing import OneHotEncoder\n",
        "from sklearn.model_selection import train_test_split\n",
        "from sklearn.linear_model import LogisticRegression\n",
        "from sklearn.metrics import confusion_matrix\n",
        "from sklearn.metrics import classification_report\n",
        "%matplotlib inline\n",
        "import seaborn as sns; sns.set()\n",
        "from sklearn.metrics import precision_recall_curve"
      ]
    },
    {
      "cell_type": "code",
      "source": [
        "#here mounting my google drive\n",
        "\n",
        "from google.colab import drive\n",
        "drive.mount('/content/drive')"
      ],
      "metadata": {
        "colab": {
          "base_uri": "https://localhost:8080/"
        },
        "id": "n03YBBft0Jeh",
        "outputId": "c426af96-1c83-4696-d7f3-9e717c2f6481"
      },
      "execution_count": null,
      "outputs": [
        {
          "output_type": "stream",
          "name": "stdout",
          "text": [
            "Drive already mounted at /content/drive; to attempt to forcibly remount, call drive.mount(\"/content/drive\", force_remount=True).\n"
          ]
        }
      ]
    },
    {
      "cell_type": "code",
      "source": [
        "! mkdir ~/.kaggle"
      ],
      "metadata": {
        "id": "LIscTFV60WQV",
        "colab": {
          "base_uri": "https://localhost:8080/"
        },
        "outputId": "6d2950d7-6e7f-4127-c4b9-02c973d70294"
      },
      "execution_count": null,
      "outputs": [
        {
          "output_type": "stream",
          "name": "stdout",
          "text": [
            "mkdir: cannot create directory ‘/root/.kaggle’: File exists\n"
          ]
        }
      ]
    },
    {
      "cell_type": "code",
      "source": [
        "! cp /content/drive/MyDrive/kaggle_API_credentials/kaggle.json ~/.kaggle/kaggle.json"
      ],
      "metadata": {
        "id": "aSO9zbUQ0YUe"
      },
      "execution_count": null,
      "outputs": []
    },
    {
      "cell_type": "code",
      "source": [
        "! chmod 600 ~/.kaggle/kaggle.json"
      ],
      "metadata": {
        "id": "GvQAxbcq0ZKP"
      },
      "execution_count": null,
      "outputs": []
    },
    {
      "cell_type": "code",
      "source": [
        "!kaggle competitions download avazu-ctr-prediction"
      ],
      "metadata": {
        "colab": {
          "base_uri": "https://localhost:8080/"
        },
        "id": "5Rb1kjgj0bTI",
        "outputId": "c18a9ff1-becf-49fc-9982-288348e9f469"
      },
      "execution_count": null,
      "outputs": [
        {
          "output_type": "stream",
          "name": "stdout",
          "text": [
            "Downloading avazu-ctr-prediction.zip to /content\n",
            "100% 1.19G/1.19G [00:10<00:00, 110MB/s]\n",
            "100% 1.19G/1.19G [00:10<00:00, 120MB/s]\n"
          ]
        }
      ]
    },
    {
      "cell_type": "code",
      "source": [
        "!unzip avazu-ctr-prediction.zip"
      ],
      "metadata": {
        "colab": {
          "base_uri": "https://localhost:8080/"
        },
        "id": "g_uOtH7K0gfA",
        "outputId": "eb685781-2b26-48d7-9737-80e504556268"
      },
      "execution_count": null,
      "outputs": [
        {
          "output_type": "stream",
          "name": "stdout",
          "text": [
            "Archive:  avazu-ctr-prediction.zip\n",
            "  inflating: sampleSubmission.gz     \n",
            "  inflating: test.gz                 \n",
            "  inflating: train.gz                \n"
          ]
        }
      ]
    },
    {
      "cell_type": "code",
      "source": [
        "dataset = r'/content/train.gz' \n",
        "df = pd.read_csv(dataset,nrows=5000)          # reading 5000 rows dataset only to start with\n"
      ],
      "metadata": {
        "id": "yfv_IqzL0lnh"
      },
      "execution_count": null,
      "outputs": []
    },
    {
      "cell_type": "code",
      "source": [
        "df.shape      #showing the shpae of the data that we read and stored in df. "
      ],
      "metadata": {
        "colab": {
          "base_uri": "https://localhost:8080/"
        },
        "id": "NY5jMZzaqcob",
        "outputId": "06469e23-28a9-4186-ae02-f0f296b1068d"
      },
      "execution_count": null,
      "outputs": [
        {
          "output_type": "execute_result",
          "data": {
            "text/plain": [
              "(5000, 24)"
            ]
          },
          "metadata": {},
          "execution_count": 136
        }
      ]
    },
    {
      "cell_type": "code",
      "source": [
        "df.columns        # showing all the columns that the dataset contains"
      ],
      "metadata": {
        "colab": {
          "base_uri": "https://localhost:8080/"
        },
        "id": "jwF9HN0jqcej",
        "outputId": "5189e3f6-380f-48a3-9b59-91cb80a96fd6"
      },
      "execution_count": null,
      "outputs": [
        {
          "output_type": "execute_result",
          "data": {
            "text/plain": [
              "Index(['id', 'click', 'hour', 'C1', 'banner_pos', 'site_id', 'site_domain',\n",
              "       'site_category', 'app_id', 'app_domain', 'app_category', 'device_id',\n",
              "       'device_ip', 'device_model', 'device_type', 'device_conn_type', 'C14',\n",
              "       'C15', 'C16', 'C17', 'C18', 'C19', 'C20', 'C21'],\n",
              "      dtype='object')"
            ]
          },
          "metadata": {},
          "execution_count": 137
        }
      ]
    },
    {
      "cell_type": "code",
      "source": [
        "display(df)     # shwoing the first and last 5 elements of the data set that we read into the df."
      ],
      "metadata": {
        "colab": {
          "base_uri": "https://localhost:8080/",
          "height": 487
        },
        "id": "kQitphqmqcTr",
        "outputId": "a2ebb670-e3e2-46f0-d673-93b10626f624"
      },
      "execution_count": null,
      "outputs": [
        {
          "output_type": "display_data",
          "data": {
            "text/plain": [
              "                        id  click      hour    C1  banner_pos   site_id  \\\n",
              "0      1000009418151094273      0  14102100  1005           0  1fbe01fe   \n",
              "1     10000169349117863715      0  14102100  1005           0  1fbe01fe   \n",
              "2     10000371904215119486      0  14102100  1005           0  1fbe01fe   \n",
              "3     10000640724480838376      0  14102100  1005           0  1fbe01fe   \n",
              "4     10000679056417042096      0  14102100  1005           1  fe8cc448   \n",
              "...                    ...    ...       ...   ...         ...       ...   \n",
              "4995  10702678919840709158      0  14102100  1005           0  85f751fd   \n",
              "4996  10703150479367170804      0  14102100  1005           1  fe8cc448   \n",
              "4997   1070330142137431328      1  14102100  1005           1  cffc1324   \n",
              "4998  10703354687287883599      0  14102100  1005           0  1fbe01fe   \n",
              "4999  10703395998631819149      0  14102100  1002           0  db45d754   \n",
              "\n",
              "     site_domain site_category    app_id app_domain  ... device_type  \\\n",
              "0       f3845767      28905ebd  ecad2386   7801e8d9  ...           1   \n",
              "1       f3845767      28905ebd  ecad2386   7801e8d9  ...           1   \n",
              "2       f3845767      28905ebd  ecad2386   7801e8d9  ...           1   \n",
              "3       f3845767      28905ebd  ecad2386   7801e8d9  ...           1   \n",
              "4       9166c161      0569f928  ecad2386   7801e8d9  ...           1   \n",
              "...          ...           ...       ...        ...  ...         ...   \n",
              "4995    c4e18dd6      50e219e0  a97b17d0   aefc06bd  ...           1   \n",
              "4996    9166c161      0569f928  ecad2386   7801e8d9  ...           1   \n",
              "4997    bc63ea42      335d28a8  ecad2386   7801e8d9  ...           1   \n",
              "4998    f3845767      28905ebd  ecad2386   7801e8d9  ...           1   \n",
              "4999    59fdbcde      50e219e0  ecad2386   7801e8d9  ...           0   \n",
              "\n",
              "     device_conn_type    C14  C15  C16   C17  C18  C19     C20  C21  \n",
              "0                   2  15706  320   50  1722    0   35      -1   79  \n",
              "1                   0  15704  320   50  1722    0   35  100084   79  \n",
              "2                   0  15704  320   50  1722    0   35  100084   79  \n",
              "3                   0  15706  320   50  1722    0   35  100084   79  \n",
              "4                   0  18993  320   50  2161    0   35      -1  157  \n",
              "...               ...    ...  ...  ...   ...  ...  ...     ...  ...  \n",
              "4995                0   1276  320   50   196    3  303  100075   15  \n",
              "4996                0  20596  320   50  2161    0   35      -1  157  \n",
              "4997                0  20596  320   50  2161    0   35      -1  157  \n",
              "4998                0  15708  320   50  1722    0   35      -1   79  \n",
              "4999                0  20352  320   50  2333    0   39      -1  157  \n",
              "\n",
              "[5000 rows x 24 columns]"
            ],
            "text/html": [
              "\n",
              "  <div id=\"df-d3b00020-59dc-4752-9989-d9a5a13b6143\">\n",
              "    <div class=\"colab-df-container\">\n",
              "      <div>\n",
              "<style scoped>\n",
              "    .dataframe tbody tr th:only-of-type {\n",
              "        vertical-align: middle;\n",
              "    }\n",
              "\n",
              "    .dataframe tbody tr th {\n",
              "        vertical-align: top;\n",
              "    }\n",
              "\n",
              "    .dataframe thead th {\n",
              "        text-align: right;\n",
              "    }\n",
              "</style>\n",
              "<table border=\"1\" class=\"dataframe\">\n",
              "  <thead>\n",
              "    <tr style=\"text-align: right;\">\n",
              "      <th></th>\n",
              "      <th>id</th>\n",
              "      <th>click</th>\n",
              "      <th>hour</th>\n",
              "      <th>C1</th>\n",
              "      <th>banner_pos</th>\n",
              "      <th>site_id</th>\n",
              "      <th>site_domain</th>\n",
              "      <th>site_category</th>\n",
              "      <th>app_id</th>\n",
              "      <th>app_domain</th>\n",
              "      <th>...</th>\n",
              "      <th>device_type</th>\n",
              "      <th>device_conn_type</th>\n",
              "      <th>C14</th>\n",
              "      <th>C15</th>\n",
              "      <th>C16</th>\n",
              "      <th>C17</th>\n",
              "      <th>C18</th>\n",
              "      <th>C19</th>\n",
              "      <th>C20</th>\n",
              "      <th>C21</th>\n",
              "    </tr>\n",
              "  </thead>\n",
              "  <tbody>\n",
              "    <tr>\n",
              "      <th>0</th>\n",
              "      <td>1000009418151094273</td>\n",
              "      <td>0</td>\n",
              "      <td>14102100</td>\n",
              "      <td>1005</td>\n",
              "      <td>0</td>\n",
              "      <td>1fbe01fe</td>\n",
              "      <td>f3845767</td>\n",
              "      <td>28905ebd</td>\n",
              "      <td>ecad2386</td>\n",
              "      <td>7801e8d9</td>\n",
              "      <td>...</td>\n",
              "      <td>1</td>\n",
              "      <td>2</td>\n",
              "      <td>15706</td>\n",
              "      <td>320</td>\n",
              "      <td>50</td>\n",
              "      <td>1722</td>\n",
              "      <td>0</td>\n",
              "      <td>35</td>\n",
              "      <td>-1</td>\n",
              "      <td>79</td>\n",
              "    </tr>\n",
              "    <tr>\n",
              "      <th>1</th>\n",
              "      <td>10000169349117863715</td>\n",
              "      <td>0</td>\n",
              "      <td>14102100</td>\n",
              "      <td>1005</td>\n",
              "      <td>0</td>\n",
              "      <td>1fbe01fe</td>\n",
              "      <td>f3845767</td>\n",
              "      <td>28905ebd</td>\n",
              "      <td>ecad2386</td>\n",
              "      <td>7801e8d9</td>\n",
              "      <td>...</td>\n",
              "      <td>1</td>\n",
              "      <td>0</td>\n",
              "      <td>15704</td>\n",
              "      <td>320</td>\n",
              "      <td>50</td>\n",
              "      <td>1722</td>\n",
              "      <td>0</td>\n",
              "      <td>35</td>\n",
              "      <td>100084</td>\n",
              "      <td>79</td>\n",
              "    </tr>\n",
              "    <tr>\n",
              "      <th>2</th>\n",
              "      <td>10000371904215119486</td>\n",
              "      <td>0</td>\n",
              "      <td>14102100</td>\n",
              "      <td>1005</td>\n",
              "      <td>0</td>\n",
              "      <td>1fbe01fe</td>\n",
              "      <td>f3845767</td>\n",
              "      <td>28905ebd</td>\n",
              "      <td>ecad2386</td>\n",
              "      <td>7801e8d9</td>\n",
              "      <td>...</td>\n",
              "      <td>1</td>\n",
              "      <td>0</td>\n",
              "      <td>15704</td>\n",
              "      <td>320</td>\n",
              "      <td>50</td>\n",
              "      <td>1722</td>\n",
              "      <td>0</td>\n",
              "      <td>35</td>\n",
              "      <td>100084</td>\n",
              "      <td>79</td>\n",
              "    </tr>\n",
              "    <tr>\n",
              "      <th>3</th>\n",
              "      <td>10000640724480838376</td>\n",
              "      <td>0</td>\n",
              "      <td>14102100</td>\n",
              "      <td>1005</td>\n",
              "      <td>0</td>\n",
              "      <td>1fbe01fe</td>\n",
              "      <td>f3845767</td>\n",
              "      <td>28905ebd</td>\n",
              "      <td>ecad2386</td>\n",
              "      <td>7801e8d9</td>\n",
              "      <td>...</td>\n",
              "      <td>1</td>\n",
              "      <td>0</td>\n",
              "      <td>15706</td>\n",
              "      <td>320</td>\n",
              "      <td>50</td>\n",
              "      <td>1722</td>\n",
              "      <td>0</td>\n",
              "      <td>35</td>\n",
              "      <td>100084</td>\n",
              "      <td>79</td>\n",
              "    </tr>\n",
              "    <tr>\n",
              "      <th>4</th>\n",
              "      <td>10000679056417042096</td>\n",
              "      <td>0</td>\n",
              "      <td>14102100</td>\n",
              "      <td>1005</td>\n",
              "      <td>1</td>\n",
              "      <td>fe8cc448</td>\n",
              "      <td>9166c161</td>\n",
              "      <td>0569f928</td>\n",
              "      <td>ecad2386</td>\n",
              "      <td>7801e8d9</td>\n",
              "      <td>...</td>\n",
              "      <td>1</td>\n",
              "      <td>0</td>\n",
              "      <td>18993</td>\n",
              "      <td>320</td>\n",
              "      <td>50</td>\n",
              "      <td>2161</td>\n",
              "      <td>0</td>\n",
              "      <td>35</td>\n",
              "      <td>-1</td>\n",
              "      <td>157</td>\n",
              "    </tr>\n",
              "    <tr>\n",
              "      <th>...</th>\n",
              "      <td>...</td>\n",
              "      <td>...</td>\n",
              "      <td>...</td>\n",
              "      <td>...</td>\n",
              "      <td>...</td>\n",
              "      <td>...</td>\n",
              "      <td>...</td>\n",
              "      <td>...</td>\n",
              "      <td>...</td>\n",
              "      <td>...</td>\n",
              "      <td>...</td>\n",
              "      <td>...</td>\n",
              "      <td>...</td>\n",
              "      <td>...</td>\n",
              "      <td>...</td>\n",
              "      <td>...</td>\n",
              "      <td>...</td>\n",
              "      <td>...</td>\n",
              "      <td>...</td>\n",
              "      <td>...</td>\n",
              "      <td>...</td>\n",
              "    </tr>\n",
              "    <tr>\n",
              "      <th>4995</th>\n",
              "      <td>10702678919840709158</td>\n",
              "      <td>0</td>\n",
              "      <td>14102100</td>\n",
              "      <td>1005</td>\n",
              "      <td>0</td>\n",
              "      <td>85f751fd</td>\n",
              "      <td>c4e18dd6</td>\n",
              "      <td>50e219e0</td>\n",
              "      <td>a97b17d0</td>\n",
              "      <td>aefc06bd</td>\n",
              "      <td>...</td>\n",
              "      <td>1</td>\n",
              "      <td>0</td>\n",
              "      <td>1276</td>\n",
              "      <td>320</td>\n",
              "      <td>50</td>\n",
              "      <td>196</td>\n",
              "      <td>3</td>\n",
              "      <td>303</td>\n",
              "      <td>100075</td>\n",
              "      <td>15</td>\n",
              "    </tr>\n",
              "    <tr>\n",
              "      <th>4996</th>\n",
              "      <td>10703150479367170804</td>\n",
              "      <td>0</td>\n",
              "      <td>14102100</td>\n",
              "      <td>1005</td>\n",
              "      <td>1</td>\n",
              "      <td>fe8cc448</td>\n",
              "      <td>9166c161</td>\n",
              "      <td>0569f928</td>\n",
              "      <td>ecad2386</td>\n",
              "      <td>7801e8d9</td>\n",
              "      <td>...</td>\n",
              "      <td>1</td>\n",
              "      <td>0</td>\n",
              "      <td>20596</td>\n",
              "      <td>320</td>\n",
              "      <td>50</td>\n",
              "      <td>2161</td>\n",
              "      <td>0</td>\n",
              "      <td>35</td>\n",
              "      <td>-1</td>\n",
              "      <td>157</td>\n",
              "    </tr>\n",
              "    <tr>\n",
              "      <th>4997</th>\n",
              "      <td>1070330142137431328</td>\n",
              "      <td>1</td>\n",
              "      <td>14102100</td>\n",
              "      <td>1005</td>\n",
              "      <td>1</td>\n",
              "      <td>cffc1324</td>\n",
              "      <td>bc63ea42</td>\n",
              "      <td>335d28a8</td>\n",
              "      <td>ecad2386</td>\n",
              "      <td>7801e8d9</td>\n",
              "      <td>...</td>\n",
              "      <td>1</td>\n",
              "      <td>0</td>\n",
              "      <td>20596</td>\n",
              "      <td>320</td>\n",
              "      <td>50</td>\n",
              "      <td>2161</td>\n",
              "      <td>0</td>\n",
              "      <td>35</td>\n",
              "      <td>-1</td>\n",
              "      <td>157</td>\n",
              "    </tr>\n",
              "    <tr>\n",
              "      <th>4998</th>\n",
              "      <td>10703354687287883599</td>\n",
              "      <td>0</td>\n",
              "      <td>14102100</td>\n",
              "      <td>1005</td>\n",
              "      <td>0</td>\n",
              "      <td>1fbe01fe</td>\n",
              "      <td>f3845767</td>\n",
              "      <td>28905ebd</td>\n",
              "      <td>ecad2386</td>\n",
              "      <td>7801e8d9</td>\n",
              "      <td>...</td>\n",
              "      <td>1</td>\n",
              "      <td>0</td>\n",
              "      <td>15708</td>\n",
              "      <td>320</td>\n",
              "      <td>50</td>\n",
              "      <td>1722</td>\n",
              "      <td>0</td>\n",
              "      <td>35</td>\n",
              "      <td>-1</td>\n",
              "      <td>79</td>\n",
              "    </tr>\n",
              "    <tr>\n",
              "      <th>4999</th>\n",
              "      <td>10703395998631819149</td>\n",
              "      <td>0</td>\n",
              "      <td>14102100</td>\n",
              "      <td>1002</td>\n",
              "      <td>0</td>\n",
              "      <td>db45d754</td>\n",
              "      <td>59fdbcde</td>\n",
              "      <td>50e219e0</td>\n",
              "      <td>ecad2386</td>\n",
              "      <td>7801e8d9</td>\n",
              "      <td>...</td>\n",
              "      <td>0</td>\n",
              "      <td>0</td>\n",
              "      <td>20352</td>\n",
              "      <td>320</td>\n",
              "      <td>50</td>\n",
              "      <td>2333</td>\n",
              "      <td>0</td>\n",
              "      <td>39</td>\n",
              "      <td>-1</td>\n",
              "      <td>157</td>\n",
              "    </tr>\n",
              "  </tbody>\n",
              "</table>\n",
              "<p>5000 rows × 24 columns</p>\n",
              "</div>\n",
              "      <button class=\"colab-df-convert\" onclick=\"convertToInteractive('df-d3b00020-59dc-4752-9989-d9a5a13b6143')\"\n",
              "              title=\"Convert this dataframe to an interactive table.\"\n",
              "              style=\"display:none;\">\n",
              "        \n",
              "  <svg xmlns=\"http://www.w3.org/2000/svg\" height=\"24px\"viewBox=\"0 0 24 24\"\n",
              "       width=\"24px\">\n",
              "    <path d=\"M0 0h24v24H0V0z\" fill=\"none\"/>\n",
              "    <path d=\"M18.56 5.44l.94 2.06.94-2.06 2.06-.94-2.06-.94-.94-2.06-.94 2.06-2.06.94zm-11 1L8.5 8.5l.94-2.06 2.06-.94-2.06-.94L8.5 2.5l-.94 2.06-2.06.94zm10 10l.94 2.06.94-2.06 2.06-.94-2.06-.94-.94-2.06-.94 2.06-2.06.94z\"/><path d=\"M17.41 7.96l-1.37-1.37c-.4-.4-.92-.59-1.43-.59-.52 0-1.04.2-1.43.59L10.3 9.45l-7.72 7.72c-.78.78-.78 2.05 0 2.83L4 21.41c.39.39.9.59 1.41.59.51 0 1.02-.2 1.41-.59l7.78-7.78 2.81-2.81c.8-.78.8-2.07 0-2.86zM5.41 20L4 18.59l7.72-7.72 1.47 1.35L5.41 20z\"/>\n",
              "  </svg>\n",
              "      </button>\n",
              "      \n",
              "  <style>\n",
              "    .colab-df-container {\n",
              "      display:flex;\n",
              "      flex-wrap:wrap;\n",
              "      gap: 12px;\n",
              "    }\n",
              "\n",
              "    .colab-df-convert {\n",
              "      background-color: #E8F0FE;\n",
              "      border: none;\n",
              "      border-radius: 50%;\n",
              "      cursor: pointer;\n",
              "      display: none;\n",
              "      fill: #1967D2;\n",
              "      height: 32px;\n",
              "      padding: 0 0 0 0;\n",
              "      width: 32px;\n",
              "    }\n",
              "\n",
              "    .colab-df-convert:hover {\n",
              "      background-color: #E2EBFA;\n",
              "      box-shadow: 0px 1px 2px rgba(60, 64, 67, 0.3), 0px 1px 3px 1px rgba(60, 64, 67, 0.15);\n",
              "      fill: #174EA6;\n",
              "    }\n",
              "\n",
              "    [theme=dark] .colab-df-convert {\n",
              "      background-color: #3B4455;\n",
              "      fill: #D2E3FC;\n",
              "    }\n",
              "\n",
              "    [theme=dark] .colab-df-convert:hover {\n",
              "      background-color: #434B5C;\n",
              "      box-shadow: 0px 1px 3px 1px rgba(0, 0, 0, 0.15);\n",
              "      filter: drop-shadow(0px 1px 2px rgba(0, 0, 0, 0.3));\n",
              "      fill: #FFFFFF;\n",
              "    }\n",
              "  </style>\n",
              "\n",
              "      <script>\n",
              "        const buttonEl =\n",
              "          document.querySelector('#df-d3b00020-59dc-4752-9989-d9a5a13b6143 button.colab-df-convert');\n",
              "        buttonEl.style.display =\n",
              "          google.colab.kernel.accessAllowed ? 'block' : 'none';\n",
              "\n",
              "        async function convertToInteractive(key) {\n",
              "          const element = document.querySelector('#df-d3b00020-59dc-4752-9989-d9a5a13b6143');\n",
              "          const dataTable =\n",
              "            await google.colab.kernel.invokeFunction('convertToInteractive',\n",
              "                                                     [key], {});\n",
              "          if (!dataTable) return;\n",
              "\n",
              "          const docLinkHtml = 'Like what you see? Visit the ' +\n",
              "            '<a target=\"_blank\" href=https://colab.research.google.com/notebooks/data_table.ipynb>data table notebook</a>'\n",
              "            + ' to learn more about interactive tables.';\n",
              "          element.innerHTML = '';\n",
              "          dataTable['output_type'] = 'display_data';\n",
              "          await google.colab.output.renderOutput(dataTable, element);\n",
              "          const docLink = document.createElement('div');\n",
              "          docLink.innerHTML = docLinkHtml;\n",
              "          element.appendChild(docLink);\n",
              "        }\n",
              "      </script>\n",
              "    </div>\n",
              "  </div>\n",
              "  "
            ]
          },
          "metadata": {}
        }
      ]
    },
    {
      "cell_type": "code",
      "source": [
        "df.info()            # here showing the types of the each columns in the dataset. "
      ],
      "metadata": {
        "colab": {
          "base_uri": "https://localhost:8080/"
        },
        "id": "tN91_FgDqpw4",
        "outputId": "f23823f8-2885-407d-962d-83ce498abc1b"
      },
      "execution_count": null,
      "outputs": [
        {
          "output_type": "stream",
          "name": "stdout",
          "text": [
            "<class 'pandas.core.frame.DataFrame'>\n",
            "RangeIndex: 5000 entries, 0 to 4999\n",
            "Data columns (total 24 columns):\n",
            " #   Column            Non-Null Count  Dtype \n",
            "---  ------            --------------  ----- \n",
            " 0   id                5000 non-null   uint64\n",
            " 1   click             5000 non-null   int64 \n",
            " 2   hour              5000 non-null   int64 \n",
            " 3   C1                5000 non-null   int64 \n",
            " 4   banner_pos        5000 non-null   int64 \n",
            " 5   site_id           5000 non-null   object\n",
            " 6   site_domain       5000 non-null   object\n",
            " 7   site_category     5000 non-null   object\n",
            " 8   app_id            5000 non-null   object\n",
            " 9   app_domain        5000 non-null   object\n",
            " 10  app_category      5000 non-null   object\n",
            " 11  device_id         5000 non-null   object\n",
            " 12  device_ip         5000 non-null   object\n",
            " 13  device_model      5000 non-null   object\n",
            " 14  device_type       5000 non-null   int64 \n",
            " 15  device_conn_type  5000 non-null   int64 \n",
            " 16  C14               5000 non-null   int64 \n",
            " 17  C15               5000 non-null   int64 \n",
            " 18  C16               5000 non-null   int64 \n",
            " 19  C17               5000 non-null   int64 \n",
            " 20  C18               5000 non-null   int64 \n",
            " 21  C19               5000 non-null   int64 \n",
            " 22  C20               5000 non-null   int64 \n",
            " 23  C21               5000 non-null   int64 \n",
            "dtypes: int64(14), object(9), uint64(1)\n",
            "memory usage: 937.6+ KB\n"
          ]
        }
      ]
    },
    {
      "cell_type": "code",
      "source": [
        "# Now dropping unnecessary columns \n",
        "\n",
        "df = df.drop('id', axis=1)"
      ],
      "metadata": {
        "id": "O3kj_UQaqpq0"
      },
      "execution_count": null,
      "outputs": []
    },
    {
      "cell_type": "code",
      "source": [
        "#showing that id colum has been dropped\n",
        "\n",
        "df.head()"
      ],
      "metadata": {
        "colab": {
          "base_uri": "https://localhost:8080/",
          "height": 299
        },
        "id": "kiRkva4rqpkz",
        "outputId": "0ab44e8d-7162-471b-ae0d-9e6fa230609c"
      },
      "execution_count": null,
      "outputs": [
        {
          "output_type": "execute_result",
          "data": {
            "text/plain": [
              "   click      hour    C1  banner_pos   site_id site_domain site_category  \\\n",
              "0      0  14102100  1005           0  1fbe01fe    f3845767      28905ebd   \n",
              "1      0  14102100  1005           0  1fbe01fe    f3845767      28905ebd   \n",
              "2      0  14102100  1005           0  1fbe01fe    f3845767      28905ebd   \n",
              "3      0  14102100  1005           0  1fbe01fe    f3845767      28905ebd   \n",
              "4      0  14102100  1005           1  fe8cc448    9166c161      0569f928   \n",
              "\n",
              "     app_id app_domain app_category  ... device_type device_conn_type    C14  \\\n",
              "0  ecad2386   7801e8d9     07d7df22  ...           1                2  15706   \n",
              "1  ecad2386   7801e8d9     07d7df22  ...           1                0  15704   \n",
              "2  ecad2386   7801e8d9     07d7df22  ...           1                0  15704   \n",
              "3  ecad2386   7801e8d9     07d7df22  ...           1                0  15706   \n",
              "4  ecad2386   7801e8d9     07d7df22  ...           1                0  18993   \n",
              "\n",
              "   C15  C16   C17  C18  C19     C20  C21  \n",
              "0  320   50  1722    0   35      -1   79  \n",
              "1  320   50  1722    0   35  100084   79  \n",
              "2  320   50  1722    0   35  100084   79  \n",
              "3  320   50  1722    0   35  100084   79  \n",
              "4  320   50  2161    0   35      -1  157  \n",
              "\n",
              "[5 rows x 23 columns]"
            ],
            "text/html": [
              "\n",
              "  <div id=\"df-98529b96-e56d-40c7-b01b-d6517bb9eaa0\">\n",
              "    <div class=\"colab-df-container\">\n",
              "      <div>\n",
              "<style scoped>\n",
              "    .dataframe tbody tr th:only-of-type {\n",
              "        vertical-align: middle;\n",
              "    }\n",
              "\n",
              "    .dataframe tbody tr th {\n",
              "        vertical-align: top;\n",
              "    }\n",
              "\n",
              "    .dataframe thead th {\n",
              "        text-align: right;\n",
              "    }\n",
              "</style>\n",
              "<table border=\"1\" class=\"dataframe\">\n",
              "  <thead>\n",
              "    <tr style=\"text-align: right;\">\n",
              "      <th></th>\n",
              "      <th>click</th>\n",
              "      <th>hour</th>\n",
              "      <th>C1</th>\n",
              "      <th>banner_pos</th>\n",
              "      <th>site_id</th>\n",
              "      <th>site_domain</th>\n",
              "      <th>site_category</th>\n",
              "      <th>app_id</th>\n",
              "      <th>app_domain</th>\n",
              "      <th>app_category</th>\n",
              "      <th>...</th>\n",
              "      <th>device_type</th>\n",
              "      <th>device_conn_type</th>\n",
              "      <th>C14</th>\n",
              "      <th>C15</th>\n",
              "      <th>C16</th>\n",
              "      <th>C17</th>\n",
              "      <th>C18</th>\n",
              "      <th>C19</th>\n",
              "      <th>C20</th>\n",
              "      <th>C21</th>\n",
              "    </tr>\n",
              "  </thead>\n",
              "  <tbody>\n",
              "    <tr>\n",
              "      <th>0</th>\n",
              "      <td>0</td>\n",
              "      <td>14102100</td>\n",
              "      <td>1005</td>\n",
              "      <td>0</td>\n",
              "      <td>1fbe01fe</td>\n",
              "      <td>f3845767</td>\n",
              "      <td>28905ebd</td>\n",
              "      <td>ecad2386</td>\n",
              "      <td>7801e8d9</td>\n",
              "      <td>07d7df22</td>\n",
              "      <td>...</td>\n",
              "      <td>1</td>\n",
              "      <td>2</td>\n",
              "      <td>15706</td>\n",
              "      <td>320</td>\n",
              "      <td>50</td>\n",
              "      <td>1722</td>\n",
              "      <td>0</td>\n",
              "      <td>35</td>\n",
              "      <td>-1</td>\n",
              "      <td>79</td>\n",
              "    </tr>\n",
              "    <tr>\n",
              "      <th>1</th>\n",
              "      <td>0</td>\n",
              "      <td>14102100</td>\n",
              "      <td>1005</td>\n",
              "      <td>0</td>\n",
              "      <td>1fbe01fe</td>\n",
              "      <td>f3845767</td>\n",
              "      <td>28905ebd</td>\n",
              "      <td>ecad2386</td>\n",
              "      <td>7801e8d9</td>\n",
              "      <td>07d7df22</td>\n",
              "      <td>...</td>\n",
              "      <td>1</td>\n",
              "      <td>0</td>\n",
              "      <td>15704</td>\n",
              "      <td>320</td>\n",
              "      <td>50</td>\n",
              "      <td>1722</td>\n",
              "      <td>0</td>\n",
              "      <td>35</td>\n",
              "      <td>100084</td>\n",
              "      <td>79</td>\n",
              "    </tr>\n",
              "    <tr>\n",
              "      <th>2</th>\n",
              "      <td>0</td>\n",
              "      <td>14102100</td>\n",
              "      <td>1005</td>\n",
              "      <td>0</td>\n",
              "      <td>1fbe01fe</td>\n",
              "      <td>f3845767</td>\n",
              "      <td>28905ebd</td>\n",
              "      <td>ecad2386</td>\n",
              "      <td>7801e8d9</td>\n",
              "      <td>07d7df22</td>\n",
              "      <td>...</td>\n",
              "      <td>1</td>\n",
              "      <td>0</td>\n",
              "      <td>15704</td>\n",
              "      <td>320</td>\n",
              "      <td>50</td>\n",
              "      <td>1722</td>\n",
              "      <td>0</td>\n",
              "      <td>35</td>\n",
              "      <td>100084</td>\n",
              "      <td>79</td>\n",
              "    </tr>\n",
              "    <tr>\n",
              "      <th>3</th>\n",
              "      <td>0</td>\n",
              "      <td>14102100</td>\n",
              "      <td>1005</td>\n",
              "      <td>0</td>\n",
              "      <td>1fbe01fe</td>\n",
              "      <td>f3845767</td>\n",
              "      <td>28905ebd</td>\n",
              "      <td>ecad2386</td>\n",
              "      <td>7801e8d9</td>\n",
              "      <td>07d7df22</td>\n",
              "      <td>...</td>\n",
              "      <td>1</td>\n",
              "      <td>0</td>\n",
              "      <td>15706</td>\n",
              "      <td>320</td>\n",
              "      <td>50</td>\n",
              "      <td>1722</td>\n",
              "      <td>0</td>\n",
              "      <td>35</td>\n",
              "      <td>100084</td>\n",
              "      <td>79</td>\n",
              "    </tr>\n",
              "    <tr>\n",
              "      <th>4</th>\n",
              "      <td>0</td>\n",
              "      <td>14102100</td>\n",
              "      <td>1005</td>\n",
              "      <td>1</td>\n",
              "      <td>fe8cc448</td>\n",
              "      <td>9166c161</td>\n",
              "      <td>0569f928</td>\n",
              "      <td>ecad2386</td>\n",
              "      <td>7801e8d9</td>\n",
              "      <td>07d7df22</td>\n",
              "      <td>...</td>\n",
              "      <td>1</td>\n",
              "      <td>0</td>\n",
              "      <td>18993</td>\n",
              "      <td>320</td>\n",
              "      <td>50</td>\n",
              "      <td>2161</td>\n",
              "      <td>0</td>\n",
              "      <td>35</td>\n",
              "      <td>-1</td>\n",
              "      <td>157</td>\n",
              "    </tr>\n",
              "  </tbody>\n",
              "</table>\n",
              "<p>5 rows × 23 columns</p>\n",
              "</div>\n",
              "      <button class=\"colab-df-convert\" onclick=\"convertToInteractive('df-98529b96-e56d-40c7-b01b-d6517bb9eaa0')\"\n",
              "              title=\"Convert this dataframe to an interactive table.\"\n",
              "              style=\"display:none;\">\n",
              "        \n",
              "  <svg xmlns=\"http://www.w3.org/2000/svg\" height=\"24px\"viewBox=\"0 0 24 24\"\n",
              "       width=\"24px\">\n",
              "    <path d=\"M0 0h24v24H0V0z\" fill=\"none\"/>\n",
              "    <path d=\"M18.56 5.44l.94 2.06.94-2.06 2.06-.94-2.06-.94-.94-2.06-.94 2.06-2.06.94zm-11 1L8.5 8.5l.94-2.06 2.06-.94-2.06-.94L8.5 2.5l-.94 2.06-2.06.94zm10 10l.94 2.06.94-2.06 2.06-.94-2.06-.94-.94-2.06-.94 2.06-2.06.94z\"/><path d=\"M17.41 7.96l-1.37-1.37c-.4-.4-.92-.59-1.43-.59-.52 0-1.04.2-1.43.59L10.3 9.45l-7.72 7.72c-.78.78-.78 2.05 0 2.83L4 21.41c.39.39.9.59 1.41.59.51 0 1.02-.2 1.41-.59l7.78-7.78 2.81-2.81c.8-.78.8-2.07 0-2.86zM5.41 20L4 18.59l7.72-7.72 1.47 1.35L5.41 20z\"/>\n",
              "  </svg>\n",
              "      </button>\n",
              "      \n",
              "  <style>\n",
              "    .colab-df-container {\n",
              "      display:flex;\n",
              "      flex-wrap:wrap;\n",
              "      gap: 12px;\n",
              "    }\n",
              "\n",
              "    .colab-df-convert {\n",
              "      background-color: #E8F0FE;\n",
              "      border: none;\n",
              "      border-radius: 50%;\n",
              "      cursor: pointer;\n",
              "      display: none;\n",
              "      fill: #1967D2;\n",
              "      height: 32px;\n",
              "      padding: 0 0 0 0;\n",
              "      width: 32px;\n",
              "    }\n",
              "\n",
              "    .colab-df-convert:hover {\n",
              "      background-color: #E2EBFA;\n",
              "      box-shadow: 0px 1px 2px rgba(60, 64, 67, 0.3), 0px 1px 3px 1px rgba(60, 64, 67, 0.15);\n",
              "      fill: #174EA6;\n",
              "    }\n",
              "\n",
              "    [theme=dark] .colab-df-convert {\n",
              "      background-color: #3B4455;\n",
              "      fill: #D2E3FC;\n",
              "    }\n",
              "\n",
              "    [theme=dark] .colab-df-convert:hover {\n",
              "      background-color: #434B5C;\n",
              "      box-shadow: 0px 1px 3px 1px rgba(0, 0, 0, 0.15);\n",
              "      filter: drop-shadow(0px 1px 2px rgba(0, 0, 0, 0.3));\n",
              "      fill: #FFFFFF;\n",
              "    }\n",
              "  </style>\n",
              "\n",
              "      <script>\n",
              "        const buttonEl =\n",
              "          document.querySelector('#df-98529b96-e56d-40c7-b01b-d6517bb9eaa0 button.colab-df-convert');\n",
              "        buttonEl.style.display =\n",
              "          google.colab.kernel.accessAllowed ? 'block' : 'none';\n",
              "\n",
              "        async function convertToInteractive(key) {\n",
              "          const element = document.querySelector('#df-98529b96-e56d-40c7-b01b-d6517bb9eaa0');\n",
              "          const dataTable =\n",
              "            await google.colab.kernel.invokeFunction('convertToInteractive',\n",
              "                                                     [key], {});\n",
              "          if (!dataTable) return;\n",
              "\n",
              "          const docLinkHtml = 'Like what you see? Visit the ' +\n",
              "            '<a target=\"_blank\" href=https://colab.research.google.com/notebooks/data_table.ipynb>data table notebook</a>'\n",
              "            + ' to learn more about interactive tables.';\n",
              "          element.innerHTML = '';\n",
              "          dataTable['output_type'] = 'display_data';\n",
              "          await google.colab.output.renderOutput(dataTable, element);\n",
              "          const docLink = document.createElement('div');\n",
              "          docLink.innerHTML = docLinkHtml;\n",
              "          element.appendChild(docLink);\n",
              "        }\n",
              "      </script>\n",
              "    </div>\n",
              "  </div>\n",
              "  "
            ]
          },
          "metadata": {},
          "execution_count": 142
        }
      ]
    },
    {
      "cell_type": "code",
      "source": [
        "df[\"click\"].value_counts() / len(df)"
      ],
      "metadata": {
        "colab": {
          "base_uri": "https://localhost:8080/"
        },
        "id": "RAAIf6TdqpeH",
        "outputId": "5e56bc4d-cf2a-4443-cae6-e3858b0c8b6a"
      },
      "execution_count": null,
      "outputs": [
        {
          "output_type": "execute_result",
          "data": {
            "text/plain": [
              "0    0.8274\n",
              "1    0.1726\n",
              "Name: click, dtype: float64"
            ]
          },
          "metadata": {},
          "execution_count": 143
        }
      ]
    },
    {
      "cell_type": "code",
      "source": [
        "#The overall click through rate is approx. 17%, and approx. 83% is not clicked."
      ],
      "metadata": {
        "id": "LTl7UZZcqb9D"
      },
      "execution_count": null,
      "outputs": []
    },
    {
      "cell_type": "code",
      "source": [
        "# here I am dropping this columns that have data type as an 'object' to not cause my training model any issue. However, I can also convert those columns into int and that can also work.\n",
        "\n",
        "df = df.drop('site_id', axis=1)\n",
        "df = df.drop('site_domain', axis=1)\n",
        "df = df.drop('site_category', axis=1)\n",
        "df = df.drop('app_id', axis=1)\n",
        "df = df.drop('app_domain', axis=1)\n",
        "df = df.drop('app_category', axis=1)\n",
        "df = df.drop('device_id', axis=1)\n",
        "df = df.drop('device_ip', axis=1)\n",
        "df = df.drop('device_model', axis=1)"
      ],
      "metadata": {
        "id": "_P7lLKhvq-D-"
      },
      "execution_count": null,
      "outputs": []
    },
    {
      "cell_type": "code",
      "source": [
        "# here, I am showing that those columns are dropped\n",
        "df.columns"
      ],
      "metadata": {
        "colab": {
          "base_uri": "https://localhost:8080/"
        },
        "id": "L3kOqnYaq995",
        "outputId": "cefeea1b-001d-4e14-a7d0-8cf00e46d0fa"
      },
      "execution_count": null,
      "outputs": [
        {
          "output_type": "execute_result",
          "data": {
            "text/plain": [
              "Index(['click', 'hour', 'C1', 'banner_pos', 'device_type', 'device_conn_type',\n",
              "       'C14', 'C15', 'C16', 'C17', 'C18', 'C19', 'C20', 'C21'],\n",
              "      dtype='object')"
            ]
          },
          "metadata": {},
          "execution_count": 146
        }
      ]
    },
    {
      "cell_type": "code",
      "source": [
        "x_train, x_test, y_train, y_test = train_test_split(df, df['click'], test_size=0.2, random_state=100)       #setting up my train and test "
      ],
      "metadata": {
        "id": "a4xbDuKp0Fwc"
      },
      "execution_count": null,
      "outputs": []
    },
    {
      "cell_type": "code",
      "source": [
        "logmodelVal = LogisticRegression()\n"
      ],
      "metadata": {
        "id": "jUsnBSoC0FtN"
      },
      "execution_count": null,
      "outputs": []
    },
    {
      "cell_type": "code",
      "source": [
        "logmodelVal.fit(x_train, y_train)"
      ],
      "metadata": {
        "colab": {
          "base_uri": "https://localhost:8080/"
        },
        "id": "0BEolODT0Fow",
        "outputId": "07cf1246-67e0-474e-8675-ab830e5b1680"
      },
      "execution_count": null,
      "outputs": [
        {
          "output_type": "execute_result",
          "data": {
            "text/plain": [
              "LogisticRegression()"
            ]
          },
          "metadata": {},
          "execution_count": 149
        }
      ]
    },
    {
      "cell_type": "code",
      "source": [
        "predictionsVal = logmodelVal.predict(x_test)"
      ],
      "metadata": {
        "id": "Wczkvnkw0Fik"
      },
      "execution_count": null,
      "outputs": []
    },
    {
      "cell_type": "code",
      "source": [
        "print(classification_report(y_test,predictionsVal))"
      ],
      "metadata": {
        "colab": {
          "base_uri": "https://localhost:8080/"
        },
        "id": "Tw7QfXyx0FbE",
        "outputId": "66a9d939-8ecd-4792-9626-54205c3280b8"
      },
      "execution_count": null,
      "outputs": [
        {
          "output_type": "stream",
          "name": "stdout",
          "text": [
            "              precision    recall  f1-score   support\n",
            "\n",
            "           0       0.83      1.00      0.91       827\n",
            "           1       0.00      0.00      0.00       173\n",
            "\n",
            "    accuracy                           0.83      1000\n",
            "   macro avg       0.41      0.50      0.45      1000\n",
            "weighted avg       0.68      0.83      0.75      1000\n",
            "\n"
          ]
        },
        {
          "output_type": "stream",
          "name": "stderr",
          "text": [
            "/usr/local/lib/python3.7/dist-packages/sklearn/metrics/_classification.py:1318: UndefinedMetricWarning: Precision and F-score are ill-defined and being set to 0.0 in labels with no predicted samples. Use `zero_division` parameter to control this behavior.\n",
            "  _warn_prf(average, modifier, msg_start, len(result))\n",
            "/usr/local/lib/python3.7/dist-packages/sklearn/metrics/_classification.py:1318: UndefinedMetricWarning: Precision and F-score are ill-defined and being set to 0.0 in labels with no predicted samples. Use `zero_division` parameter to control this behavior.\n",
            "  _warn_prf(average, modifier, msg_start, len(result))\n",
            "/usr/local/lib/python3.7/dist-packages/sklearn/metrics/_classification.py:1318: UndefinedMetricWarning: Precision and F-score are ill-defined and being set to 0.0 in labels with no predicted samples. Use `zero_division` parameter to control this behavior.\n",
            "  _warn_prf(average, modifier, msg_start, len(result))\n"
          ]
        }
      ]
    },
    {
      "cell_type": "code",
      "source": [
        "# above all the cassifiers have been train and tested using Logistic Regression and the best approx avg is 0.41 and accuracy is approx 0.83."
      ],
      "metadata": {
        "id": "89UqEIkp35vy"
      },
      "execution_count": null,
      "outputs": []
    },
    {
      "cell_type": "code",
      "source": [
        "\"\"\"\n",
        "Now, below I am going to implement SGD \n",
        "to accomplish this online learning, we need to utilize the Stochastic Gradient Descent approach, with model changes \n",
        "performed for a single data sample at a time. SGDClassifier is one of several outstanding online learning algorithms available in Scikit-learn.\n",
        "The time complexity of SGDClassifier increases linearly with training data size. Another benefit is that it has a \n",
        "constant memory usage, allowing it very flexible.\n",
        "\n",
        "\"\"\""
      ],
      "metadata": {
        "id": "Ezb8D2pO35hY",
        "colab": {
          "base_uri": "https://localhost:8080/",
          "height": 72
        },
        "outputId": "fbc1db42-d5cf-4689-f4e0-3ab5516efcc4"
      },
      "execution_count": null,
      "outputs": [
        {
          "output_type": "execute_result",
          "data": {
            "text/plain": [
              "'\\nNow, below I am going to implement SGD \\nto accomplish this online learning, we need to utilize the Stochastic Gradient Descent approach, with model changes \\nperformed for a single data sample at a time. SGDClassifier is one of several outstanding online learning algorithms available in Scikit-learn.\\nThe time complexity of SGDClassifier increases linearly with training data size. Another benefit is that it has a \\nconstant memory usage, allowing it very flexible.\\n\\n'"
            ],
            "application/vnd.google.colaboratory.intrinsic+json": {
              "type": "string"
            }
          },
          "metadata": {},
          "execution_count": 154
        }
      ]
    },
    {
      "cell_type": "code",
      "source": [
        "myFile = dataset \n",
        "chunkVal = 10000\n",
        "trainVal = int(0.2*404280)\n",
        "testVal = 404280 - trainVal\n",
        "trainItr = round(trainVal/chunkVal)\n",
        "testItr = round(testVal/chunkVal)\n",
        "SGDmodel = SGDClassifier(loss='log',  alpha=.000001, penalty='l2', eta0=2.0, shuffle=True, n_jobs=-1,learning_rate='invscaling',  random_state=10)\n",
        "partial_fit_classes = np.array([0, 1]) "
      ],
      "metadata": {
        "id": "WPbuk9vj1IQu"
      },
      "execution_count": null,
      "outputs": []
    },
    {
      "cell_type": "code",
      "source": [
        "hashVal = FeatureHasher(n_features=2**26, input_type='string')\n",
        "preprocessor = Pipeline([('feature_hashing', hashVal)])"
      ],
      "metadata": {
        "id": "t39MVoBY1Uoa"
      },
      "execution_count": null,
      "outputs": []
    },
    {
      "cell_type": "code",
      "source": [
        "columns = ['id', 'click', 'hour', 'C1', 'banner_pos', 'site_id', 'site_domain', 'site_category', 'app_id', 'app_domain', 'app_category','device_id', 'device_ip', 'device_model', 'device_type', 'device_conn_type', 'C14', 'C15', 'C16', 'C17', 'C18', 'C19', 'C20', 'C21']\n",
        "dfTrain = pd.read_csv(myFile, sep=',', chunksize=chunkVal, names=columns, header=0, nrows=trainVal)\n",
        "dfTest = pd.read_csv(myFile, sep=',',chunksize=chunkVal, names=columns, header=0, skiprows=trainVal, nrows=testVal)"
      ],
      "metadata": {
        "id": "Bav6rLQ81YkD"
      },
      "execution_count": null,
      "outputs": []
    },
    {
      "cell_type": "code",
      "source": [
        "def sgdData(df):\n",
        "    yTrain = df['click'].values\n",
        "    yTrain = np.asarray(yTrain).ravel()\n",
        "    X = df.drop(['id', 'click'], axis=1)\n",
        "    XTrain = preprocessor.fit_transform(np.asarray(X.astype(str)))\n",
        "    return yTrain, XTrain"
      ],
      "metadata": {
        "id": "yHFbNzzM1m9I"
      },
      "execution_count": null,
      "outputs": []
    },
    {
      "cell_type": "code",
      "source": [
        "\n",
        "countVal = 0\n",
        "totalLogLoss = 0\n",
        "for df in dfTrain:\n",
        "    countVal += 1\n",
        "    yTrain, XTrain = sgdData(df)\n",
        "    SGDmodel.partial_fit(XTrain, yTrain, classes=partial_fit_classes)\n",
        "\n",
        "totalLogLoss = 0\n",
        "countVal = 0\n",
        "for df in dfTest:\n",
        "    countVal += 1\n",
        "    y_test, X_test = sgdData(df)\n",
        "    y_pred = SGDmodel.predict_proba(X_test)\n",
        "    log_loss_temp = log_loss(y_test, y_pred)\n",
        "    totalLogLoss += log_loss_temp\n",
        "\n",
        "print(\"Final log loss: \", totalLogLoss/countVal)\n",
        "\n"
      ],
      "metadata": {
        "colab": {
          "base_uri": "https://localhost:8080/"
        },
        "id": "CNTf53vu1p4Z",
        "outputId": "110f3e60-134f-4595-d5b9-e8b6e1f2a7f5"
      },
      "execution_count": null,
      "outputs": [
        {
          "output_type": "stream",
          "name": "stdout",
          "text": [
            "Final log loss:  0.4090866178333795\n"
          ]
        }
      ]
    },
    {
      "cell_type": "code",
      "source": [
        "#Plot the precision vs recall curve of your classifier. Clearly explain the tradeoff between the two quantities and the shape of the curve."
      ],
      "metadata": {
        "id": "5-pDEyXB_pc4"
      },
      "execution_count": null,
      "outputs": []
    },
    {
      "cell_type": "code",
      "source": [
        "from sklearn.metrics import plot_roc_curve, plot_precision_recall_curve, roc_curve"
      ],
      "metadata": {
        "id": "w9G-kri1HzL8"
      },
      "execution_count": null,
      "outputs": []
    },
    {
      "cell_type": "code",
      "source": [
        "df = pd.read_csv(dataset, nrows=10000)"
      ],
      "metadata": {
        "id": "9AOCEXyyQSt0"
      },
      "execution_count": null,
      "outputs": []
    },
    {
      "cell_type": "code",
      "source": [
        "def myData():\n",
        "    myFile = df.copy()            \n",
        "    targetVal = df['click']\n",
        "    counterVal = 0\n",
        "    listVal = []\n",
        "    for x in targetVal:\n",
        "        if counterVal >= 7900:\n",
        "                break\n",
        "        if x == 0:\n",
        "            listVal.append(counterVal)\n",
        "        \n",
        "        counterVal += 1\n",
        "       \n",
        "    myFile.drop(myFile.index[listVal], inplace=True)\n",
        "    print(counterVal)\n",
        "    return myFile"
      ],
      "metadata": {
        "id": "Thd4dE62R93R"
      },
      "execution_count": null,
      "outputs": []
    },
    {
      "cell_type": "code",
      "source": [
        "myFile = myData()"
      ],
      "metadata": {
        "colab": {
          "base_uri": "https://localhost:8080/"
        },
        "id": "E8dU0OUNZlbF",
        "outputId": "aa8c3f71-e893-44a2-8a39-7a40bc8cc8b0"
      },
      "execution_count": null,
      "outputs": [
        {
          "output_type": "stream",
          "name": "stdout",
          "text": [
            "7900\n"
          ]
        }
      ]
    },
    {
      "cell_type": "code",
      "source": [
        "targetVal = myFile['click']\n",
        "dataVal = myFile.drop(df.columns[[0, 1]], axis=1)\n",
        "dataVal = pd.get_dummies(dataVal)\n",
        "XTrain, XTest, yTrain, yTest = train_test_split(dataVal, targetVal, stratify=targetVal, random_state=0)"
      ],
      "metadata": {
        "id": "7jxKFOVrSDkR"
      },
      "execution_count": null,
      "outputs": []
    },
    {
      "cell_type": "code",
      "source": [
        "pramGridVal = {'randomforestclassifier__n_estimators': [50, 100],'randomforestclassifier__max_depth': [10, 50, 100]}\n",
        "pipeVal = make_pipeline(RandomForestClassifier())\n",
        "gridVal = GridSearchCV(pipeVal, pramGridVal, cv=5)\n",
        "gridVal.fit(XTrain, yTrain)\n"
      ],
      "metadata": {
        "colab": {
          "base_uri": "https://localhost:8080/"
        },
        "id": "OucVUmwCSKhe",
        "outputId": "dce49e7d-aa3a-4ef4-93c8-cd527d1dd7c4"
      },
      "execution_count": null,
      "outputs": [
        {
          "output_type": "execute_result",
          "data": {
            "text/plain": [
              "GridSearchCV(cv=5,\n",
              "             estimator=Pipeline(steps=[('randomforestclassifier',\n",
              "                                        RandomForestClassifier())]),\n",
              "             param_grid={'randomforestclassifier__max_depth': [10, 50, 100],\n",
              "                         'randomforestclassifier__n_estimators': [50, 100]})"
            ]
          },
          "metadata": {},
          "execution_count": 179
        }
      ]
    },
    {
      "cell_type": "code",
      "source": [
        "precisionVal, recallVal, probaVal = precision_recall_curve(yTest, gridVal.predict_proba(XTest)[:, 1]) \n",
        "plt.plot(precisionVal, recallVal, label=\"rf\")\n",
        "closedfVal = np.argmin(np.abs(probaVal - 0.5))\n",
        "plt.plot(precisionVal[closedfVal], recallVal[closedfVal], '^', markersize=8, label=\"threshold 0.5 \", fillstyle=\"none\", c='k', mew=2.5)\n",
        "closedfVal = np.argmin(np.abs(probaVal - 0.3))\n",
        "plt.plot(precisionVal[closedfVal], recallVal[closedfVal], 'o', markersize=8, label=\"threshold 0.3 \", fillstyle=\"none\", c='k', mew=2.5)\n",
        "plt.xlabel('Precision')\n",
        "plt.ylabel(\"Recall\")\n",
        "plt.legend(loc=\"best\")\n",
        "plt.title(\"precision_recall_tradeoff\")\n",
        "plt.plot()"
      ],
      "metadata": {
        "colab": {
          "base_uri": "https://localhost:8080/",
          "height": 319
        },
        "id": "B_qK0kxGTok7",
        "outputId": "4b154bd0-a409-467b-d7ca-23ca637491da"
      },
      "execution_count": null,
      "outputs": [
        {
          "output_type": "execute_result",
          "data": {
            "text/plain": [
              "[]"
            ]
          },
          "metadata": {},
          "execution_count": 180
        },
        {
          "output_type": "display_data",
          "data": {
            "text/plain": [
              "<Figure size 432x288 with 1 Axes>"
            ],
            "image/png": "[encoded data removed]"
          },
          "metadata": {}
        }
      ]
    },
    {
      "cell_type": "code",
      "source": [
        "\"\"\"\n",
        "In conclusion, the concept behind the precision-recall trade-off is that \n",
        "the weights will tip when we adjusts the threshold for classifying something as positive or negative.\n",
        "That means that either precision will rise while recall falls, or the opposite will occur.\n",
        "\"\"\"\n"
      ],
      "metadata": {
        "colab": {
          "base_uri": "https://localhost:8080/",
          "height": 54
        },
        "id": "qBxSfxs3cvYY",
        "outputId": "d53304da-0801-4f3a-9055-af287297c2eb"
      },
      "execution_count": null,
      "outputs": [
        {
          "output_type": "execute_result",
          "data": {
            "text/plain": [
              "'\\nIn conclusion, the concept behind the precision-recall trade-off is that \\nthe weights will tip when we\\xa0adjusts the threshold for classifying something as positive or negative.\\nThat means that either precision will rise while recall falls, or the opposite will occur.\\n'"
            ],
            "application/vnd.google.colaboratory.intrinsic+json": {
              "type": "string"
            }
          },
          "metadata": {},
          "execution_count": 181
        }
      ]
    }
  ]
}